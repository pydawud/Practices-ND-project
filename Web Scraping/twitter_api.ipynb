{
 "cells": [
  {
   "cell_type": "code",
   "execution_count": 1,
   "id": "bd033bd0",
   "metadata": {},
   "outputs": [],
   "source": [
    "import tweepy\n",
    "import configparser\n",
    "import pandas as pd"
   ]
  },
  {
   "cell_type": "code",
   "execution_count": 2,
   "id": "41962e41",
   "metadata": {},
   "outputs": [],
   "source": [
    "#read configs\n",
    "config = configparser.ConfigParser()\n",
    "config.read('config.ini')\n",
    "\n",
    "api_key = config['twitter']['api_key']\n",
    "api_key_secret = config['twitter']['api_key_secret']\n",
    "\n",
    "access_token = config['twitter']['access_token']\n",
    "access_token_secret = config['twitter']['access_token_secret']"
   ]
  },
  {
   "cell_type": "code",
   "execution_count": 3,
   "id": "a3cb6c26",
   "metadata": {},
   "outputs": [],
   "source": [
    "#auth\n",
    "auth = tweepy.OAuthHandler(api_key, api_key_secret, access_token, access_token_secret)\n",
    "api = tweepy.API(auth)"
   ]
  },
  {
   "cell_type": "code",
   "execution_count": 4,
   "id": "42cd7064",
   "metadata": {},
   "outputs": [],
   "source": [
    "#public tweets\n",
    "public_tweets = api.home_timeline()\n"
   ]
  },
  {
   "cell_type": "code",
   "execution_count": 5,
   "id": "4c8f02e5",
   "metadata": {},
   "outputs": [
    {
     "name": "stdout",
     "output_type": "stream",
     "text": [
      "RT @Detroit_Detour: @lilpapabean @souljaboy  Add Insults To Injures #NFT\n",
      "#Python #IoT #IIoT #PyTorch #Ad #JavaScript #ReactJS #WordPress #…\n"
     ]
    }
   ],
   "source": [
    "print(public_tweets[0].text)"
   ]
  },
  {
   "cell_type": "code",
   "execution_count": 6,
   "id": "149fa012",
   "metadata": {},
   "outputs": [
    {
     "name": "stdout",
     "output_type": "stream",
     "text": [
      "RT @Detroit_Detour: @lilpapabean @souljaboy  Add Insults To Injures #NFT\n",
      "#Python #IoT #IIoT #PyTorch #Ad #JavaScript #ReactJS #WordPress #…\n",
      "RT @PrinceSamuel_A: Hello Guys.\n",
      "I have been trying to download a comprehensive tutorial or documentation preferably on @TensorFlow . I need…\n",
      "Retweet if you are not among them https://t.co/f85hqIUEVd\n",
      "One student at a time, we can change the fate of a generation!\n",
      "RT @theoluwatonii: I wonder what the world of data would look like if spreadsheets didn't exist. 😑\n",
      "Thank God for the breakfast I collected last year, it was the fuel that pushed me to learn hours on end and not thi… https://t.co/omUKSiig22\n",
      "RT @Olummide_: While rightfully blaming Buhari and his government, don't forget the man who claimed to put him there.\n",
      "RT @Abubaka61697096: @Chubado_a وَلِلْمُفَسِّرِينَ في المُرادِ بِالأُمَّةِ هاهُنا ثَلاثَةُ أقْوالٍ:\n",
      "أحَدُها: أنَّ الأُمَّةَ: الَّذِي يُعْ…\n",
      "Good News!!! #BattleOfTheMoves is Back - the ‘Uncaged’ edition!!!\n",
      "\n",
      "Entries will open on the 16th of June, individua… https://t.co/MSeD5ANcNj\n",
      "JUST IN: The FED is now pricing goods in #BTC \n",
      "\n",
      "#Bitcoin is a unit of account 🚀 https://t.co/Mz8wuvRXh3\n",
      "احسنت. بارك الله فيك. https://t.co/i8cSwronIK\n",
      "https://t.co/iNu3mnnGr0\n",
      "#NLP, #MachineLearning\n",
      "RT @rulajebreal: Allora ⁦@giammarcosicuro⁩ adesso capisci di quale orrore stiamo parlando? Possiamo convenire sul fatto che i russi stanno…\n",
      "I know two years from now, I will have acquired a great deal of diverse skills and knowledge and will definitely be… https://t.co/kDR03Outnz\n",
      "RT @hanuna_ma_data: @jessica_xls One of best advices for new data analysts\n",
      "In a normal year, the World Cup might have been starting this week 🥺 https://t.co/GlkCmcmy3F\n",
      "And here are the release notes for Safari 16 beta. https://t.co/8e5HK67PKA\n",
      "@tu_babs Haha. I tried.\n",
      "#Inflation rates globally!\n",
      "\n",
      "Turkey is leading at 70\n",
      "\n",
      "Canada 6.8\n",
      "\n",
      "Nigeria is probably off the chart.\n",
      "\n",
      "This is why yo… https://t.co/ip00u9o53M\n"
     ]
    }
   ],
   "source": [
    "for tweet in public_tweets:\n",
    "    print(tweet.text)"
   ]
  },
  {
   "cell_type": "code",
   "execution_count": 7,
   "id": "2b2d3e6c",
   "metadata": {},
   "outputs": [],
   "source": [
    "#create a df from the data\n",
    "data = []\n",
    "for tweet in public_tweets:\n",
    "    data.append([tweet.created_at, tweet.user.screen_name, tweet.text])\n",
    "    \n",
    "df = pd.DataFrame(data, columns=['Time','User', 'Tweet'])"
   ]
  },
  {
   "cell_type": "code",
   "execution_count": 8,
   "id": "591e0061",
   "metadata": {},
   "outputs": [
    {
     "data": {
      "text/html": [
       "<div>\n",
       "<style scoped>\n",
       "    .dataframe tbody tr th:only-of-type {\n",
       "        vertical-align: middle;\n",
       "    }\n",
       "\n",
       "    .dataframe tbody tr th {\n",
       "        vertical-align: top;\n",
       "    }\n",
       "\n",
       "    .dataframe thead th {\n",
       "        text-align: right;\n",
       "    }\n",
       "</style>\n",
       "<table border=\"1\" class=\"dataframe\">\n",
       "  <thead>\n",
       "    <tr style=\"text-align: right;\">\n",
       "      <th></th>\n",
       "      <th>Time</th>\n",
       "      <th>User</th>\n",
       "      <th>Tweet</th>\n",
       "    </tr>\n",
       "  </thead>\n",
       "  <tbody>\n",
       "    <tr>\n",
       "      <th>0</th>\n",
       "      <td>2022-06-06 21:58:37+00:00</td>\n",
       "      <td>py_data_sci</td>\n",
       "      <td>RT @Detroit_Detour: @lilpapabean @souljaboy  ...</td>\n",
       "    </tr>\n",
       "    <tr>\n",
       "      <th>1</th>\n",
       "      <td>2022-06-06 21:58:14+00:00</td>\n",
       "      <td>py_data_sci</td>\n",
       "      <td>RT @PrinceSamuel_A: Hello Guys.\\nI have been t...</td>\n",
       "    </tr>\n",
       "    <tr>\n",
       "      <th>2</th>\n",
       "      <td>2022-06-06 21:57:49+00:00</td>\n",
       "      <td>Theoladeledada</td>\n",
       "      <td>Retweet if you are not among them https://t.co...</td>\n",
       "    </tr>\n",
       "    <tr>\n",
       "      <th>3</th>\n",
       "      <td>2022-06-06 21:56:31+00:00</td>\n",
       "      <td>TheOyinbooke</td>\n",
       "      <td>One student at a time, we can change the fate ...</td>\n",
       "    </tr>\n",
       "    <tr>\n",
       "      <th>4</th>\n",
       "      <td>2022-06-06 21:56:04+00:00</td>\n",
       "      <td>jessica_xls</td>\n",
       "      <td>RT @theoluwatonii: I wonder what the world of ...</td>\n",
       "    </tr>\n",
       "    <tr>\n",
       "      <th>5</th>\n",
       "      <td>2022-06-06 21:55:24+00:00</td>\n",
       "      <td>SamsonTontoye</td>\n",
       "      <td>Thank God for the breakfast I collected last y...</td>\n",
       "    </tr>\n",
       "    <tr>\n",
       "      <th>6</th>\n",
       "      <td>2022-06-06 21:54:54+00:00</td>\n",
       "      <td>tunbosunlaw98</td>\n",
       "      <td>RT @Olummide_: While rightfully blaming Buhari...</td>\n",
       "    </tr>\n",
       "    <tr>\n",
       "      <th>7</th>\n",
       "      <td>2022-06-06 21:53:54+00:00</td>\n",
       "      <td>Chubado_a</td>\n",
       "      <td>RT @Abubaka61697096: @Chubado_a وَلِلْمُفَسِّر...</td>\n",
       "    </tr>\n",
       "    <tr>\n",
       "      <th>8</th>\n",
       "      <td>2022-06-06 21:53:37+00:00</td>\n",
       "      <td>Mbahdeyforyou</td>\n",
       "      <td>Good News!!! #BattleOfTheMoves is Back - the ‘...</td>\n",
       "    </tr>\n",
       "    <tr>\n",
       "      <th>9</th>\n",
       "      <td>2022-06-06 21:52:49+00:00</td>\n",
       "      <td>BitcoinMagazine</td>\n",
       "      <td>JUST IN: The FED is now pricing goods in #BTC ...</td>\n",
       "    </tr>\n",
       "    <tr>\n",
       "      <th>10</th>\n",
       "      <td>2022-06-06 21:51:59+00:00</td>\n",
       "      <td>Chubado_a</td>\n",
       "      <td>احسنت. بارك الله فيك. https://t.co/i8cSwronIK</td>\n",
       "    </tr>\n",
       "    <tr>\n",
       "      <th>11</th>\n",
       "      <td>2022-06-06 21:51:43+00:00</td>\n",
       "      <td>theomitsa</td>\n",
       "      <td>https://t.co/iNu3mnnGr0\\n#NLP, #MachineLearning</td>\n",
       "    </tr>\n",
       "    <tr>\n",
       "      <th>12</th>\n",
       "      <td>2022-06-06 21:51:41+00:00</td>\n",
       "      <td>GaryLineker</td>\n",
       "      <td>RT @rulajebreal: Allora ⁦@giammarcosicuro⁩ ade...</td>\n",
       "    </tr>\n",
       "    <tr>\n",
       "      <th>13</th>\n",
       "      <td>2022-06-06 21:49:58+00:00</td>\n",
       "      <td>SamsonTontoye</td>\n",
       "      <td>I know two years from now, I will have acquire...</td>\n",
       "    </tr>\n",
       "    <tr>\n",
       "      <th>14</th>\n",
       "      <td>2022-06-06 21:48:51+00:00</td>\n",
       "      <td>jessica_xls</td>\n",
       "      <td>RT @hanuna_ma_data: @jessica_xls One of best a...</td>\n",
       "    </tr>\n",
       "    <tr>\n",
       "      <th>15</th>\n",
       "      <td>2022-06-06 21:48:47+00:00</td>\n",
       "      <td>goal</td>\n",
       "      <td>In a normal year, the World Cup might have bee...</td>\n",
       "    </tr>\n",
       "    <tr>\n",
       "      <th>16</th>\n",
       "      <td>2022-06-06 21:47:52+00:00</td>\n",
       "      <td>jensimmons</td>\n",
       "      <td>And here are the release notes for Safari 16 b...</td>\n",
       "    </tr>\n",
       "    <tr>\n",
       "      <th>17</th>\n",
       "      <td>2022-06-06 21:47:47+00:00</td>\n",
       "      <td>jessica_xls</td>\n",
       "      <td>@tu_babs Haha. I tried.</td>\n",
       "    </tr>\n",
       "    <tr>\n",
       "      <th>18</th>\n",
       "      <td>2022-06-06 21:47:27+00:00</td>\n",
       "      <td>ritapurity</td>\n",
       "      <td>#Inflation rates globally!\\n\\nTurkey is leadin...</td>\n",
       "    </tr>\n",
       "  </tbody>\n",
       "</table>\n",
       "</div>"
      ],
      "text/plain": [
       "                        Time             User  \\\n",
       "0  2022-06-06 21:58:37+00:00      py_data_sci   \n",
       "1  2022-06-06 21:58:14+00:00      py_data_sci   \n",
       "2  2022-06-06 21:57:49+00:00   Theoladeledada   \n",
       "3  2022-06-06 21:56:31+00:00     TheOyinbooke   \n",
       "4  2022-06-06 21:56:04+00:00      jessica_xls   \n",
       "5  2022-06-06 21:55:24+00:00    SamsonTontoye   \n",
       "6  2022-06-06 21:54:54+00:00    tunbosunlaw98   \n",
       "7  2022-06-06 21:53:54+00:00        Chubado_a   \n",
       "8  2022-06-06 21:53:37+00:00    Mbahdeyforyou   \n",
       "9  2022-06-06 21:52:49+00:00  BitcoinMagazine   \n",
       "10 2022-06-06 21:51:59+00:00        Chubado_a   \n",
       "11 2022-06-06 21:51:43+00:00        theomitsa   \n",
       "12 2022-06-06 21:51:41+00:00      GaryLineker   \n",
       "13 2022-06-06 21:49:58+00:00    SamsonTontoye   \n",
       "14 2022-06-06 21:48:51+00:00      jessica_xls   \n",
       "15 2022-06-06 21:48:47+00:00             goal   \n",
       "16 2022-06-06 21:47:52+00:00       jensimmons   \n",
       "17 2022-06-06 21:47:47+00:00      jessica_xls   \n",
       "18 2022-06-06 21:47:27+00:00       ritapurity   \n",
       "\n",
       "                                                Tweet  \n",
       "0   RT @Detroit_Detour: @lilpapabean @souljaboy  ...  \n",
       "1   RT @PrinceSamuel_A: Hello Guys.\\nI have been t...  \n",
       "2   Retweet if you are not among them https://t.co...  \n",
       "3   One student at a time, we can change the fate ...  \n",
       "4   RT @theoluwatonii: I wonder what the world of ...  \n",
       "5   Thank God for the breakfast I collected last y...  \n",
       "6   RT @Olummide_: While rightfully blaming Buhari...  \n",
       "7   RT @Abubaka61697096: @Chubado_a وَلِلْمُفَسِّر...  \n",
       "8   Good News!!! #BattleOfTheMoves is Back - the ‘...  \n",
       "9   JUST IN: The FED is now pricing goods in #BTC ...  \n",
       "10      احسنت. بارك الله فيك. https://t.co/i8cSwronIK  \n",
       "11    https://t.co/iNu3mnnGr0\\n#NLP, #MachineLearning  \n",
       "12  RT @rulajebreal: Allora ⁦@giammarcosicuro⁩ ade...  \n",
       "13  I know two years from now, I will have acquire...  \n",
       "14  RT @hanuna_ma_data: @jessica_xls One of best a...  \n",
       "15  In a normal year, the World Cup might have bee...  \n",
       "16  And here are the release notes for Safari 16 b...  \n",
       "17                            @tu_babs Haha. I tried.  \n",
       "18  #Inflation rates globally!\\n\\nTurkey is leadin...  "
      ]
     },
     "execution_count": 8,
     "metadata": {},
     "output_type": "execute_result"
    }
   ],
   "source": [
    "df"
   ]
  },
  {
   "cell_type": "code",
   "execution_count": 9,
   "id": "1deef2cc",
   "metadata": {},
   "outputs": [],
   "source": [
    "#df.to_csv('twitter_data.csv', index=False)"
   ]
  },
  {
   "cell_type": "code",
   "execution_count": 10,
   "id": "84d33e7b",
   "metadata": {},
   "outputs": [],
   "source": [
    "#create a class to read tweet in stream\n",
    "class listener(tweepy.Stream):\n",
    "    def on_status(self, status):\n",
    "        print(f'{status.user.screen_name} : {status.text}')"
   ]
  },
  {
   "cell_type": "code",
   "execution_count": 11,
   "id": "3f710bb9",
   "metadata": {},
   "outputs": [],
   "source": [
    "stream_tweets = listener(api_key, api_key_secret, access_token, access_token_secret)"
   ]
  },
  {
   "cell_type": "code",
   "execution_count": 12,
   "id": "97359971",
   "metadata": {},
   "outputs": [
    {
     "name": "stderr",
     "output_type": "stream",
     "text": [
      "Stream encountered HTTP error: 403\n",
      "Stream encountered HTTP error: 403\n",
      "Stream encountered HTTP error: 403\n",
      "Stream encountered HTTP error: 403\n",
      "Stream encountered HTTP error: 403\n",
      "Stream encountered HTTP error: 403\n",
      "Stream encountered HTTP error: 403\n",
      "Stream encountered HTTP error: 403\n"
     ]
    },
    {
     "ename": "KeyboardInterrupt",
     "evalue": "",
     "output_type": "error",
     "traceback": [
      "\u001b[1;31m---------------------------------------------------------------------------\u001b[0m",
      "\u001b[1;31mKeyboardInterrupt\u001b[0m                         Traceback (most recent call last)",
      "Input \u001b[1;32mIn [12]\u001b[0m, in \u001b[0;36m<cell line: 3>\u001b[1;34m()\u001b[0m\n\u001b[0;32m      1\u001b[0m \u001b[38;5;66;03m# keywords\u001b[39;00m\n\u001b[0;32m      2\u001b[0m keywords \u001b[38;5;241m=\u001b[39m [\u001b[38;5;124m'\u001b[39m\u001b[38;5;124m2022\u001b[39m\u001b[38;5;124m'\u001b[39m,\u001b[38;5;124m'\u001b[39m\u001b[38;5;124mpython\u001b[39m\u001b[38;5;124m'\u001b[39m]\n\u001b[1;32m----> 3\u001b[0m \u001b[43mstream_tweets\u001b[49m\u001b[38;5;241;43m.\u001b[39;49m\u001b[43mfilter\u001b[49m\u001b[43m(\u001b[49m\u001b[43mtrack\u001b[49m\u001b[38;5;241;43m=\u001b[39;49m\u001b[43mkeywords\u001b[49m\u001b[43m)\u001b[49m\n",
      "File \u001b[1;32m~\\anaconda3\\lib\\site-packages\\tweepy\\streaming.py:365\u001b[0m, in \u001b[0;36mStream.filter\u001b[1;34m(self, follow, track, locations, filter_level, languages, stall_warnings, threaded)\u001b[0m\n\u001b[0;32m    362\u001b[0m     \u001b[38;5;28;01mreturn\u001b[39;00m \u001b[38;5;28mself\u001b[39m\u001b[38;5;241m.\u001b[39m_threaded_connect(method, endpoint, headers\u001b[38;5;241m=\u001b[39mheaders,\n\u001b[0;32m    363\u001b[0m                                   body\u001b[38;5;241m=\u001b[39mbody)\n\u001b[0;32m    364\u001b[0m \u001b[38;5;28;01melse\u001b[39;00m:\n\u001b[1;32m--> 365\u001b[0m     \u001b[38;5;28;43mself\u001b[39;49m\u001b[38;5;241;43m.\u001b[39;49m\u001b[43m_connect\u001b[49m\u001b[43m(\u001b[49m\u001b[43mmethod\u001b[49m\u001b[43m,\u001b[49m\u001b[43m \u001b[49m\u001b[43mendpoint\u001b[49m\u001b[43m,\u001b[49m\u001b[43m \u001b[49m\u001b[43mheaders\u001b[49m\u001b[38;5;241;43m=\u001b[39;49m\u001b[43mheaders\u001b[49m\u001b[43m,\u001b[49m\u001b[43m \u001b[49m\u001b[43mbody\u001b[49m\u001b[38;5;241;43m=\u001b[39;49m\u001b[43mbody\u001b[49m\u001b[43m)\u001b[49m\n",
      "File \u001b[1;32m~\\anaconda3\\lib\\site-packages\\tweepy\\streaming.py:272\u001b[0m, in \u001b[0;36mStream._connect\u001b[1;34m(self, method, endpoint, **kwargs)\u001b[0m\n\u001b[0;32m    269\u001b[0m auth \u001b[38;5;241m=\u001b[39m OAuth1(\u001b[38;5;28mself\u001b[39m\u001b[38;5;241m.\u001b[39mconsumer_key, \u001b[38;5;28mself\u001b[39m\u001b[38;5;241m.\u001b[39mconsumer_secret,\n\u001b[0;32m    270\u001b[0m               \u001b[38;5;28mself\u001b[39m\u001b[38;5;241m.\u001b[39maccess_token, \u001b[38;5;28mself\u001b[39m\u001b[38;5;241m.\u001b[39maccess_token_secret)\n\u001b[0;32m    271\u001b[0m url \u001b[38;5;241m=\u001b[39m \u001b[38;5;124mf\u001b[39m\u001b[38;5;124m\"\u001b[39m\u001b[38;5;124mhttps://stream.twitter.com/1.1/\u001b[39m\u001b[38;5;132;01m{\u001b[39;00mendpoint\u001b[38;5;132;01m}\u001b[39;00m\u001b[38;5;124m.json\u001b[39m\u001b[38;5;124m\"\u001b[39m\n\u001b[1;32m--> 272\u001b[0m \u001b[38;5;28msuper\u001b[39m()\u001b[38;5;241m.\u001b[39m_connect(method, url, auth\u001b[38;5;241m=\u001b[39mauth, \u001b[38;5;241m*\u001b[39m\u001b[38;5;241m*\u001b[39mkwargs)\n",
      "File \u001b[1;32m~\\anaconda3\\lib\\site-packages\\tweepy\\streaming.py:110\u001b[0m, in \u001b[0;36mBaseStream._connect\u001b[1;34m(self, method, url, auth, params, headers, body)\u001b[0m\n\u001b[0;32m    107\u001b[0m     \u001b[38;5;28;01mif\u001b[39;00m http_error_wait \u001b[38;5;241m<\u001b[39m http_420_error_wait_start:\n\u001b[0;32m    108\u001b[0m         http_error_wait \u001b[38;5;241m=\u001b[39m http_420_error_wait_start\n\u001b[1;32m--> 110\u001b[0m \u001b[43msleep\u001b[49m\u001b[43m(\u001b[49m\u001b[43mhttp_error_wait\u001b[49m\u001b[43m)\u001b[49m\n\u001b[0;32m    112\u001b[0m http_error_wait \u001b[38;5;241m*\u001b[39m\u001b[38;5;241m=\u001b[39m \u001b[38;5;241m2\u001b[39m\n\u001b[0;32m    113\u001b[0m \u001b[38;5;28;01mif\u001b[39;00m http_error_wait \u001b[38;5;241m>\u001b[39m http_error_wait_max:\n",
      "\u001b[1;31mKeyboardInterrupt\u001b[0m: "
     ]
    }
   ],
   "source": [
    "# keywords\n",
    "keywords = ['2022','python']\n",
    "stream_tweets.filter(track=keywords)"
   ]
  }
 ],
 "metadata": {
  "kernelspec": {
   "display_name": "Python 3 (ipykernel)",
   "language": "python",
   "name": "python3"
  },
  "language_info": {
   "codemirror_mode": {
    "name": "ipython",
    "version": 3
   },
   "file_extension": ".py",
   "mimetype": "text/x-python",
   "name": "python",
   "nbconvert_exporter": "python",
   "pygments_lexer": "ipython3",
   "version": "3.9.12"
  }
 },
 "nbformat": 4,
 "nbformat_minor": 5
}
